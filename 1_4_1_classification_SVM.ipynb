{
  "nbformat": 4,
  "nbformat_minor": 0,
  "metadata": {
    "colab": {
      "name": "1.4.1_classification_SVM.ipynb",
      "provenance": [],
      "collapsed_sections": [],
      "authorship_tag": "ABX9TyP9XHPu+ZPSTfUcsjRbOKS8",
      "include_colab_link": true
    },
    "kernelspec": {
      "name": "python3",
      "display_name": "Python 3"
    }
  },
  "cells": [
    {
      "cell_type": "markdown",
      "metadata": {
        "id": "view-in-github",
        "colab_type": "text"
      },
      "source": [
        "<a href=\"https://colab.research.google.com/github/N-Linh/sklearn_classification_practice/blob/master/1_4_1_classification_SVM.ipynb\" target=\"_parent\"><img src=\"https://colab.research.google.com/assets/colab-badge.svg\" alt=\"Open In Colab\"/></a>"
      ]
    },
    {
      "cell_type": "markdown",
      "metadata": {
        "id": "XK7U4FsCTGu-"
      },
      "source": [
        "#Classification with SVM\n",
        "\n"
      ]
    },
    {
      "cell_type": "markdown",
      "metadata": {
        "id": "H8BI1F8s2VL5"
      },
      "source": [
        "Using **SVC, NuSVC, LinearSVC** class for perfroming binary and multi-class classification"
      ]
    },
    {
      "cell_type": "markdown",
      "metadata": {
        "id": "SvrwISkpZbaW"
      },
      "source": [
        "## Binary classification demo"
      ]
    },
    {
      "cell_type": "code",
      "metadata": {
        "id": "obguaRW4RjLb",
        "outputId": "e82126d6-8326-4ebf-8654-fba814348a87",
        "colab": {
          "base_uri": "https://localhost:8080/",
          "height": 85
        }
      },
      "source": [
        "from sklearn import svm\n",
        "X = [[0, 0], [1, 1]]\n",
        "y = [0, 1]\n",
        "clf = svm.SVC()# initialize SVM classifier\n",
        "clf.fit(X, y)  # train classifier with data"
      ],
      "execution_count": 1,
      "outputs": [
        {
          "output_type": "execute_result",
          "data": {
            "text/plain": [
              "SVC(C=1.0, break_ties=False, cache_size=200, class_weight=None, coef0=0.0,\n",
              "    decision_function_shape='ovr', degree=3, gamma='scale', kernel='rbf',\n",
              "    max_iter=-1, probability=False, random_state=None, shrinking=True,\n",
              "    tol=0.001, verbose=False)"
            ]
          },
          "metadata": {
            "tags": []
          },
          "execution_count": 1
        }
      ]
    },
    {
      "cell_type": "code",
      "metadata": {
        "id": "5bDOelYqV-Vc",
        "outputId": "5aa4a6be-58ef-4df9-8729-1f3adabfb658",
        "colab": {
          "base_uri": "https://localhost:8080/",
          "height": 34
        }
      },
      "source": [
        "clf.predict([[2., 2.], [1, 2], [-4, -3]])"
      ],
      "execution_count": 2,
      "outputs": [
        {
          "output_type": "execute_result",
          "data": {
            "text/plain": [
              "array([1, 1, 0])"
            ]
          },
          "metadata": {
            "tags": []
          },
          "execution_count": 2
        }
      ]
    },
    {
      "cell_type": "code",
      "metadata": {
        "id": "ilHFhxWAWTFm",
        "outputId": "6a168946-8d64-417f-a8f4-bfafe4492e27",
        "colab": {
          "base_uri": "https://localhost:8080/",
          "height": 51
        }
      },
      "source": [
        "# get support vectors (closest to the hyperplane)\n",
        "clf.support_vectors_"
      ],
      "execution_count": 3,
      "outputs": [
        {
          "output_type": "execute_result",
          "data": {
            "text/plain": [
              "array([[0., 0.],\n",
              "       [1., 1.]])"
            ]
          },
          "metadata": {
            "tags": []
          },
          "execution_count": 3
        }
      ]
    },
    {
      "cell_type": "code",
      "metadata": {
        "id": "65po8HkJWeSy",
        "outputId": "f8156941-4ee0-47f1-a27b-238d7cc19d5b",
        "colab": {
          "base_uri": "https://localhost:8080/",
          "height": 34
        }
      },
      "source": [
        "# get indices of support vectors\n",
        "clf.support_"
      ],
      "execution_count": 4,
      "outputs": [
        {
          "output_type": "execute_result",
          "data": {
            "text/plain": [
              "array([0, 1], dtype=int32)"
            ]
          },
          "metadata": {
            "tags": []
          },
          "execution_count": 4
        }
      ]
    },
    {
      "cell_type": "code",
      "metadata": {
        "id": "7j443NthYr5H",
        "outputId": "e36f2e85-f636-45d3-f2da-a4c933ad0ee6",
        "colab": {
          "base_uri": "https://localhost:8080/",
          "height": 34
        }
      },
      "source": [
        "# get number of support vectors for each class\n",
        "clf.n_support_"
      ],
      "execution_count": 5,
      "outputs": [
        {
          "output_type": "execute_result",
          "data": {
            "text/plain": [
              "array([1, 1], dtype=int32)"
            ]
          },
          "metadata": {
            "tags": []
          },
          "execution_count": 5
        }
      ]
    },
    {
      "cell_type": "markdown",
      "metadata": {
        "id": "3w-oqqIFZ-c-"
      },
      "source": [
        "## Multi class classification"
      ]
    },
    {
      "cell_type": "markdown",
      "metadata": {
        "id": "ik2j4zShba2T"
      },
      "source": [
        "**SVC** and **NuSVC** implement *one vs one* approach, **LinearSVC** implement *one vs rest*\n",
        "\n",
        "For example, *one vs one*, given a multi-class ‘red,’ ‘blue,’ ‘green,‘‘green‘. This could be divided into (n_classes * (n_classes - 1))/2 = 6 binary classification datasets as follows: \n",
        "*    Binary Classification 1: red vs. blue\n",
        "*   Binary Classification 2: red vs. green\n",
        "*   Binary Classification 3: red vs. yellow\n",
        "*   Binary Classification 4: blue vs. green\n",
        "*   Binary Classification 5: blue vs. yellow\n",
        "*   Binary Classification 6: green vs. \n",
        "yellow"
      ]
    },
    {
      "cell_type": "markdown",
      "metadata": {
        "id": "Iby0ewz0e5a5"
      },
      "source": [
        "*one vs rest* approach\n",
        "\n",
        "For example,  a multi-class ‘red,’ ‘blue,’ and ‘green‘. This could be divided into three binary classification datasets as follows:\n",
        "*   Binary Classification Problem 1: red vs [blue, green]\n",
        "*   Binary Classification Problem 2: blue vs [red, green]\n",
        "*   Binary Classification Problem 3: green vs [red, blue]"
      ]
    },
    {
      "cell_type": "code",
      "metadata": {
        "id": "uwVZy2cgaIU8",
        "outputId": "5e0a985b-94ff-4bd6-c357-6579887574bf",
        "colab": {
          "base_uri": "https://localhost:8080/",
          "height": 85
        }
      },
      "source": [
        "X = [[0], [1], [2], [3]]\n",
        "Y = [0, 1, 2, 3] # 4 classes\n",
        "clf = svm.SVC(decision_function_shape = 'ovo') # 'one vs one' decision function of shape\n",
        "clf.fit(X, Y)"
      ],
      "execution_count": 6,
      "outputs": [
        {
          "output_type": "execute_result",
          "data": {
            "text/plain": [
              "SVC(C=1.0, break_ties=False, cache_size=200, class_weight=None, coef0=0.0,\n",
              "    decision_function_shape='ovo', degree=3, gamma='scale', kernel='rbf',\n",
              "    max_iter=-1, probability=False, random_state=None, shrinking=True,\n",
              "    tol=0.001, verbose=False)"
            ]
          },
          "metadata": {
            "tags": []
          },
          "execution_count": 6
        }
      ]
    },
    {
      "cell_type": "code",
      "metadata": {
        "id": "eJEVkcPeggKV",
        "outputId": "70840bf2-741e-4498-97f2-c9aacc48815e",
        "colab": {
          "base_uri": "https://localhost:8080/",
          "height": 34
        }
      },
      "source": [
        "dec = clf.decision_function([[1]])\n",
        "dec.shape[1] # 4 classes"
      ],
      "execution_count": 7,
      "outputs": [
        {
          "output_type": "execute_result",
          "data": {
            "text/plain": [
              "6"
            ]
          },
          "metadata": {
            "tags": []
          },
          "execution_count": 7
        }
      ]
    },
    {
      "cell_type": "code",
      "metadata": {
        "id": "gRYS13RI2j9a",
        "outputId": "0d18744c-9cfa-4150-bc69-ca6d43eea07e",
        "colab": {
          "base_uri": "https://localhost:8080/",
          "height": 34
        }
      },
      "source": [
        "clf.decision_function_shape = 'ovr' # one vs rest\n",
        "dec = clf.decision_function([[1]])\n",
        "dec.shape[1] # 4 classes"
      ],
      "execution_count": 11,
      "outputs": [
        {
          "output_type": "execute_result",
          "data": {
            "text/plain": [
              "4"
            ]
          },
          "metadata": {
            "tags": []
          },
          "execution_count": 11
        }
      ]
    }
  ]
}